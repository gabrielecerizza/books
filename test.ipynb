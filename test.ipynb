{
 "cells": [
  {
   "cell_type": "code",
   "execution_count": 10,
   "metadata": {},
   "outputs": [],
   "source": [
    "import pandas as pd\n",
    "import numpy as np\n",
    "\n",
    "from src.api import db\n",
    "import torch"
   ]
  },
  {
   "cell_type": "code",
   "execution_count": 7,
   "metadata": {},
   "outputs": [],
   "source": [
    "reviews = db.get_all_reviews()\n",
    "reviews_df = pd.DataFrame(reviews)\n",
    "books = db.get_all_books()\n",
    "books_df = pd.DataFrame(books)\n",
    "reg_users = db.get_all_registered_users()\n",
    "reg_users = pd.DataFrame(reg_users)\n",
    "\n",
    "ratings = reviews_df.drop_duplicates(subset=[\"user_id\", \"book_id\"]).copy()\n",
    "ratings_df = ratings.copy()\n",
    "users = ratings[\"user_id\"].unique()\n",
    "books = ratings[\"book_id\"].unique()"
   ]
  },
  {
   "cell_type": "code",
   "execution_count": 16,
   "metadata": {},
   "outputs": [
    {
     "data": {
      "text/plain": [
       "array(['A7IMBNFYANPNV', 'A1WV4Q44JE40UF', 'A32MYDPSMCHT1L', ...,\n",
       "       'A1EB7BDZI63ILF', 'A1S6Q9I87YY21C', 'AZ1G140XCLW3I'], dtype=object)"
      ]
     },
     "execution_count": 16,
     "metadata": {},
     "output_type": "execute_result"
    }
   ],
   "source": [
    "users"
   ]
  },
  {
   "cell_type": "code",
   "execution_count": 13,
   "metadata": {},
   "outputs": [
    {
     "data": {
      "text/plain": [
       "0    1\n",
       "1    2\n",
       "2    3\n",
       "3    4\n",
       "Name: id, dtype: int64"
      ]
     },
     "execution_count": 13,
     "metadata": {},
     "output_type": "execute_result"
    }
   ],
   "source": [
    "reg_users[\"id\"]"
   ]
  },
  {
   "cell_type": "code",
   "execution_count": 17,
   "metadata": {},
   "outputs": [
    {
     "name": "stdout",
     "output_type": "stream",
     "text": [
      "1\n",
      "2\n",
      "3\n",
      "4\n"
     ]
    },
    {
     "data": {
      "text/plain": [
       "4"
      ]
     },
     "execution_count": 17,
     "metadata": {},
     "output_type": "execute_result"
    }
   ],
   "source": [
    "c = 0\n",
    "for ru in reg_users[\"id\"]:\n",
    "    print(ru)\n",
    "    if not ru in users:\n",
    "        users = np.append(users,(ru))\n",
    "        c += 1\n",
    "c"
   ]
  },
  {
   "cell_type": "code",
   "execution_count": 18,
   "metadata": {},
   "outputs": [
    {
     "data": {
      "text/plain": [
       "array(['A7IMBNFYANPNV', 'A1WV4Q44JE40UF', 'A32MYDPSMCHT1L', ..., 2, 3, 4],\n",
       "      dtype=object)"
      ]
     },
     "execution_count": 18,
     "metadata": {},
     "output_type": "execute_result"
    }
   ],
   "source": [
    "users"
   ]
  },
  {
   "cell_type": "code",
   "execution_count": 19,
   "metadata": {},
   "outputs": [],
   "source": [
    "\n",
    "userid2idx = {o:i for i,o in enumerate(users)}\n",
    "bookid2idx = {o:i for i,o in enumerate(books)}\n",
    "\n",
    "idx2userid = {i:o for o,i in userid2idx.items()}\n",
    "idx2bookid = {i:o for o,i in bookid2idx.items()}\n",
    "\n",
    "users_items_pivot_matrix_df = ratings.pivot(\n",
    "            index=\"user_id\", \n",
    "            columns=\"book_id\", \n",
    "            values=\"score\").fillna(0)\n",
    "        \n",
    "X = torch.Tensor(users_items_pivot_matrix_df.to_numpy())"
   ]
  },
  {
   "cell_type": "code",
   "execution_count": 22,
   "metadata": {},
   "outputs": [
    {
     "data": {
      "text/plain": [
       "(4, 97)"
      ]
     },
     "execution_count": 22,
     "metadata": {},
     "output_type": "execute_result"
    }
   ],
   "source": [
    "X_suppl = np.zeros((c, X.shape[1]))\n",
    "X_suppl.shape"
   ]
  },
  {
   "cell_type": "code",
   "execution_count": 24,
   "metadata": {},
   "outputs": [
    {
     "data": {
      "text/plain": [
       "(33774, 97)"
      ]
     },
     "execution_count": 24,
     "metadata": {},
     "output_type": "execute_result"
    }
   ],
   "source": [
    "np.concatenate([X, X_suppl]).shape"
   ]
  },
  {
   "cell_type": "code",
   "execution_count": 21,
   "metadata": {},
   "outputs": [
    {
     "data": {
      "text/plain": [
       "(torch.Size([33770, 97]), 33774)"
      ]
     },
     "execution_count": 21,
     "metadata": {},
     "output_type": "execute_result"
    }
   ],
   "source": [
    "X.shape, len(users)"
   ]
  }
 ],
 "metadata": {
  "kernelspec": {
   "display_name": "p3.12.4",
   "language": "python",
   "name": "python3"
  },
  "language_info": {
   "codemirror_mode": {
    "name": "ipython",
    "version": 3
   },
   "file_extension": ".py",
   "mimetype": "text/x-python",
   "name": "python",
   "nbconvert_exporter": "python",
   "pygments_lexer": "ipython3",
   "version": "3.12.4"
  }
 },
 "nbformat": 4,
 "nbformat_minor": 2
}
